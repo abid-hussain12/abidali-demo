{
  "nbformat": 4,
  "nbformat_minor": 0,
  "metadata": {
    "colab": {
      "provenance": [],
      "authorship_tag": "ABX9TyNY3GhhveG5JKa6CowOcH0a",
      "include_colab_link": true
    },
    "kernelspec": {
      "name": "python3",
      "display_name": "Python 3"
    },
    "language_info": {
      "name": "python"
    }
  },
  "cells": [
    {
      "cell_type": "markdown",
      "metadata": {
        "id": "view-in-github",
        "colab_type": "text"
      },
      "source": [
        "<a href=\"https://colab.research.google.com/github/abid-hussain12/abidali-demo/blob/main/langchain_project_1.ipynb\" target=\"_parent\"><img src=\"https://colab.research.google.com/assets/colab-badge.svg\" alt=\"Open In Colab\"/></a>"
      ]
    },
    {
      "cell_type": "code",
      "execution_count": 1,
      "metadata": {
        "id": "rn5b2k4YGQ8c"
      },
      "outputs": [],
      "source": [
        "from google.colab import userdata\n",
        "google_api_key=userdata.get('GOOGLE_API_KEY_2')"
      ]
    },
    {
      "cell_type": "code",
      "source": [
        "!pip install langchain_google_genai --quiet"
      ],
      "metadata": {
        "id": "jOoCaNi-G52p"
      },
      "execution_count": 3,
      "outputs": []
    },
    {
      "cell_type": "code",
      "source": [
        "from langchain_google_genai import GoogleGenerativeAI"
      ],
      "metadata": {
        "id": "ERzotuQKG_ku"
      },
      "execution_count": 4,
      "outputs": []
    },
    {
      "cell_type": "code",
      "source": [
        "MODEL=GoogleGenerativeAI(\n",
        "    api_key=google_api_key,\n",
        "    model=\"gemini-2.0-flash-exp\"\n",
        ")"
      ],
      "metadata": {
        "id": "kXSZ3E7aHVxt"
      },
      "execution_count": 5,
      "outputs": []
    },
    {
      "cell_type": "code",
      "source": [
        "response=MODEL.invoke(\"who is allama iqbal\")\n",
        "print(response)"
      ],
      "metadata": {
        "colab": {
          "base_uri": "https://localhost:8080/"
        },
        "id": "rUyXvTeFIHyb",
        "outputId": "453cb052-97d9-47d4-a03a-ae2e8b4a9ab7"
      },
      "execution_count": 6,
      "outputs": [
        {
          "output_type": "stream",
          "name": "stdout",
          "text": [
            "Allama Muhammad Iqbal (علامہ محمد اقبال), often referred to simply as Allama Iqbal, was a highly influential figure in the history of the Indian subcontinent. He was a philosopher, poet, and politician, widely regarded as one of the most important figures in Urdu literature. Here's a breakdown of who he was and why he's so significant:\n",
            "\n",
            "**Key Aspects of Allama Iqbal's Life and Work:**\n",
            "\n",
            "* **Poet of the East:** He is known as the \"Poet of the East\" for his powerful and evocative poetry, which explored themes of self-discovery, spiritual awakening, and the revitalization of Muslim identity. His poetry is deeply philosophical and often uses metaphors and symbolism to convey complex ideas.\n",
            "* **Philosopher:** Iqbal was a profound thinker who drew inspiration from Islamic philosophy, Western thought, and various Sufi traditions. He developed his own philosophical system, which emphasized the importance of self-reliance, action, and the pursuit of individual and collective growth. His philosophy is often referred to as \"Khudi\" (selfhood), which encourages individuals to realize their potential and strive for excellence.\n",
            "* **Political Thinker:** Iqbal played a crucial role in the Pakistan Movement. He is considered the spiritual father of Pakistan, although he did not live to see its creation. His vision of a separate Muslim state in the northwestern part of India, articulated in his 1930 Allahabad Address, significantly influenced the political landscape of the subcontinent.\n",
            "* **Urdu and Persian Poet:** While his most popular works are in Urdu, he was also a master of Persian poetry. He skillfully used both languages to express his ideas and connect with a wider audience.\n",
            "* **Champion of Muslim Identity:** Iqbal was deeply concerned about the decline of Muslim power and influence in the world. He sought to awaken a sense of pride and purpose among Muslims, urging them to reclaim their intellectual and spiritual heritage.\n",
            "* **Reformer:** He advocated for the reform of Muslim society, emphasizing education, social justice, and the importance of adapting to modern challenges while remaining true to Islamic principles.\n",
            "* **Influence:** His ideas and poetry have had a profound impact on the intellectual, political, and cultural landscape of South Asia and beyond. He continues to be revered and studied by scholars and enthusiasts around the world.\n",
            "\n",
            "**Key Works:**\n",
            "\n",
            "* **Asrar-e-Khudi (Secrets of the Self):** A philosophical poem in Persian that explores the concept of \"Khudi\" and the importance of self-affirmation.\n",
            "* **Rumuz-e-Bekhudi (Mysteries of Selflessness):** A companion volume to \"Asrar-e-Khudi,\" focusing on the importance of community and collective action.\n",
            "* **Bang-e-Dara (The Call of the Marching Bell):** A collection of Urdu poems, including some of his most famous works.\n",
            "* **Bal-e-Jibril (Gabriel's Wing):** A collection of Urdu and Persian poems that explores themes of spirituality, history, and social justice.\n",
            "* **Zarb-e-Kaleem (The Rod of Moses):** A collection of Urdu poems focusing on the challenges facing the Muslim world.\n",
            "* **The Reconstruction of Religious Thought in Islam:** A collection of his lectures, which explore the nature of Islamic thought and its relevance to the modern world.\n",
            "\n",
            "**In Summary:**\n",
            "\n",
            "Allama Iqbal was more than just a poet. He was a visionary who used his words to inspire, provoke, and challenge. He was a philosopher who grappled with profound questions about the nature of existence and the role of humanity. He was a political thinker whose ideas helped shape the destiny of a nation. His legacy continues to resonate with millions, making him a pivotal figure in South Asian history and culture.\n",
            "\n",
            "Therefore, when you hear the name Allama Iqbal, think of a multifaceted intellectual giant whose impact transcends language, religion, and borders. He remains a source of inspiration for those seeking self-discovery, spiritual growth, and social justice.\n",
            "\n"
          ]
        }
      ]
    },
    {
      "cell_type": "code",
      "source": [],
      "metadata": {
        "id": "huawh81IIXN2"
      },
      "execution_count": null,
      "outputs": []
    }
  ]
}